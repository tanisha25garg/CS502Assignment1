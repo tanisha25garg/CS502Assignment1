{
  "nbformat": 4,
  "nbformat_minor": 0,
  "metadata": {
    "colab": {
      "provenance": []
    },
    "kernelspec": {
      "name": "python3",
      "display_name": "Python 3"
    },
    "language_info": {
      "name": "python"
    }
  },
  "cells": [
    {
      "cell_type": "markdown",
      "source": [
        "## Assignment-1\n",
        "\n",
        "#### Author: Tanisha Garg\n",
        "#### Roll No: 2201AI40"
      ],
      "metadata": {
        "id": "1x_hGvMsAyGG"
      }
    },
    {
      "cell_type": "code",
      "execution_count": 9,
      "metadata": {
        "id": "tmWG1XTJAEaU"
      },
      "outputs": [],
      "source": [
        "import kagglehub\n",
        "import pandas as pd\n",
        "import numpy as np\n",
        "import matplotlib.pyplot as plt\n",
        "import seaborn as sns\n",
        "\n",
        "from sklearn.model_selection import train_test_split, GridSearchCV\n",
        "from sklearn.preprocessing import StandardScaler\n",
        "from sklearn.linear_model import LogisticRegression\n",
        "from sklearn.metrics import accuracy_score, confusion_matrix, classification_report"
      ]
    },
    {
      "cell_type": "markdown",
      "source": [
        "### Step 1: Download dataset"
      ],
      "metadata": {
        "id": "6pfmqZikA4Y3"
      }
    },
    {
      "cell_type": "code",
      "source": [
        "path = kagglehub.dataset_download(\"uciml/breast-cancer-wisconsin-data\")\n",
        "print(\"Path to dataset files:\", path)"
      ],
      "metadata": {
        "colab": {
          "base_uri": "https://localhost:8080/"
        },
        "id": "gTYnt8M5AjjK",
        "outputId": "037c9008-5798-4fad-9667-ec62f640e37d"
      },
      "execution_count": 10,
      "outputs": [
        {
          "output_type": "stream",
          "name": "stdout",
          "text": [
            "Using Colab cache for faster access to the 'breast-cancer-wisconsin-data' dataset.\n",
            "Path to dataset files: /kaggle/input/breast-cancer-wisconsin-data\n"
          ]
        }
      ]
    },
    {
      "cell_type": "markdown",
      "source": [
        "### Step 2: Load dataset"
      ],
      "metadata": {
        "id": "rB_bKQ9MA_cD"
      }
    },
    {
      "cell_type": "code",
      "source": [
        "data = pd.read_csv(path + \"/data.csv\")"
      ],
      "metadata": {
        "id": "FXR9bufuAl8-"
      },
      "execution_count": 11,
      "outputs": []
    },
    {
      "cell_type": "markdown",
      "source": [
        "### Step 3: Data preprocessing"
      ],
      "metadata": {
        "id": "zjH33kMdBDiV"
      }
    },
    {
      "cell_type": "code",
      "source": [
        "# Drop irrelevant columns\n",
        "data = data.drop(['id', 'Unnamed: 32'], axis=1)\n",
        "\n",
        "# Encode target (M=1, B=0)\n",
        "data['diagnosis'] = data['diagnosis'].map({'M': 1, 'B': 0})\n",
        "\n",
        "# Features & target\n",
        "X = data.drop('diagnosis', axis=1)\n",
        "y = data['diagnosis']"
      ],
      "metadata": {
        "id": "RKndIcWXApva"
      },
      "execution_count": 12,
      "outputs": []
    },
    {
      "cell_type": "markdown",
      "source": [
        "### Step 4: Train/Validation/Test split"
      ],
      "metadata": {
        "id": "l1wQmsyHBKNe"
      }
    },
    {
      "cell_type": "code",
      "source": [
        "# First split: 15% test set\n",
        "X_train_full, X_test, y_train_full, y_test = train_test_split(\n",
        "    X, y, test_size=0.15, random_state=42, stratify=y\n",
        ")\n",
        "\n",
        "# Second split: 15% of train_full as validation\n",
        "X_train, X_val, y_train, y_val = train_test_split(\n",
        "    X_train_full, y_train_full, test_size=0.15, random_state=42, stratify=y_train_full\n",
        ")\n",
        "\n",
        "print(f\"Training samples: {len(X_train)}, Validation samples: {len(X_val)}, Test samples: {len(X_test)}\")"
      ],
      "metadata": {
        "colab": {
          "base_uri": "https://localhost:8080/"
        },
        "id": "BRq3GB8uBMEL",
        "outputId": "05af7f6e-9de5-4d10-8c4a-1b278e51a4bb"
      },
      "execution_count": 13,
      "outputs": [
        {
          "output_type": "stream",
          "name": "stdout",
          "text": [
            "Training samples: 410, Validation samples: 73, Test samples: 86\n"
          ]
        }
      ]
    },
    {
      "cell_type": "markdown",
      "source": [
        "### Step 5: Feature scaling"
      ],
      "metadata": {
        "id": "WRNHEUh6BVnZ"
      }
    },
    {
      "cell_type": "code",
      "source": [
        "scaler = StandardScaler()\n",
        "X_train = scaler.fit_transform(X_train)\n",
        "X_val = scaler.transform(X_val)\n",
        "X_test = scaler.transform(X_test)"
      ],
      "metadata": {
        "id": "_h4gp0wvBXyD"
      },
      "execution_count": 14,
      "outputs": []
    },
    {
      "cell_type": "markdown",
      "source": [
        "### Step 6: Logistic Regression with Hyperparameter Tuning"
      ],
      "metadata": {
        "id": "mv83vUDBBZha"
      }
    },
    {
      "cell_type": "code",
      "source": [
        "param_grid = {\n",
        "    'C': [0.01, 0.1, 1, 10, 100],  # Regularization strength\n",
        "    'penalty': ['l2'],             # L2 regularization\n",
        "    'solver': ['lbfgs']            # Optimizer\n",
        "}\n",
        "\n",
        "grid = GridSearchCV(LogisticRegression(max_iter=1000), param_grid, cv=5, scoring='accuracy')\n",
        "grid.fit(X_train, y_train)\n",
        "\n",
        "print(\"\\nBest Hyperparameters:\", grid.best_params_)"
      ],
      "metadata": {
        "colab": {
          "base_uri": "https://localhost:8080/"
        },
        "id": "YnIPTy60BbiN",
        "outputId": "f958d5d0-8ec7-4015-fdd0-aa235883750e"
      },
      "execution_count": 15,
      "outputs": [
        {
          "output_type": "stream",
          "name": "stdout",
          "text": [
            "\n",
            "Best Hyperparameters: {'C': 1, 'penalty': 'l2', 'solver': 'lbfgs'}\n"
          ]
        }
      ]
    },
    {
      "cell_type": "markdown",
      "source": [
        "### Step 7: Validation Performance"
      ],
      "metadata": {
        "id": "cdukCh6TBdIf"
      }
    },
    {
      "cell_type": "code",
      "source": [
        "y_val_pred = grid.predict(X_val)\n",
        "print(\"\\nValidation Accuracy:\", accuracy_score(y_val, y_val_pred))\n",
        "print(\"Validation Classification Report:\\n\", classification_report(y_val, y_val_pred))"
      ],
      "metadata": {
        "colab": {
          "base_uri": "https://localhost:8080/"
        },
        "id": "ZBmhFZmPBfWh",
        "outputId": "cde6627f-75a3-4900-c695-2c1d6043eafc"
      },
      "execution_count": 16,
      "outputs": [
        {
          "output_type": "stream",
          "name": "stdout",
          "text": [
            "\n",
            "Validation Accuracy: 0.9726027397260274\n",
            "Validation Classification Report:\n",
            "               precision    recall  f1-score   support\n",
            "\n",
            "           0       0.98      0.98      0.98        46\n",
            "           1       0.96      0.96      0.96        27\n",
            "\n",
            "    accuracy                           0.97        73\n",
            "   macro avg       0.97      0.97      0.97        73\n",
            "weighted avg       0.97      0.97      0.97        73\n",
            "\n"
          ]
        }
      ]
    },
    {
      "cell_type": "markdown",
      "source": [
        "### Step 8: Final Test Performance"
      ],
      "metadata": {
        "id": "j0R9wCYcBhIO"
      }
    },
    {
      "cell_type": "code",
      "source": [
        "y_test_pred = grid.predict(X_test)\n",
        "print(\"\\nTest Accuracy:\", accuracy_score(y_test, y_test_pred))\n",
        "print(\"\\nTest Confusion Matrix:\\n\", confusion_matrix(y_test, y_test_pred))\n",
        "print(\"\\nTest Classification Report:\\n\", classification_report(y_test, y_test_pred))"
      ],
      "metadata": {
        "colab": {
          "base_uri": "https://localhost:8080/"
        },
        "id": "qmCYNBsbBkP5",
        "outputId": "e51dd168-9a7d-4fd6-8413-d686cfd316bd"
      },
      "execution_count": 18,
      "outputs": [
        {
          "output_type": "stream",
          "name": "stdout",
          "text": [
            "\n",
            "Test Accuracy: 0.9883720930232558\n",
            "\n",
            "Test Confusion Matrix:\n",
            " [[54  0]\n",
            " [ 1 31]]\n",
            "\n",
            "Test Classification Report:\n",
            "               precision    recall  f1-score   support\n",
            "\n",
            "           0       0.98      1.00      0.99        54\n",
            "           1       1.00      0.97      0.98        32\n",
            "\n",
            "    accuracy                           0.99        86\n",
            "   macro avg       0.99      0.98      0.99        86\n",
            "weighted avg       0.99      0.99      0.99        86\n",
            "\n"
          ]
        }
      ]
    },
    {
      "cell_type": "markdown",
      "source": [
        "### Step 9: Visualization - Confusion Matrix Heatmap"
      ],
      "metadata": {
        "id": "BDX8gmMWBmAd"
      }
    },
    {
      "cell_type": "code",
      "source": [
        "sns.heatmap(confusion_matrix(y_test, y_test_pred), annot=True, fmt=\"d\", cmap=\"Blues\")\n",
        "plt.xlabel(\"Predicted\")\n",
        "plt.ylabel(\"Actual\")\n",
        "plt.title(\"Test Set - Confusion Matrix Heatmap\")\n",
        "plt.show()"
      ],
      "metadata": {
        "colab": {
          "base_uri": "https://localhost:8080/",
          "height": 472
        },
        "id": "ufebxF7OBoTc",
        "outputId": "702b16c4-63fa-495f-cb08-8be99ed3f13a"
      },
      "execution_count": 19,
      "outputs": [
        {
          "output_type": "display_data",
          "data": {
            "text/plain": [
              "<Figure size 640x480 with 2 Axes>"
            ],
            "image/png": "[encoded data removed]"
          },
          "metadata": {}
        }
      ]
    }
  ]
}